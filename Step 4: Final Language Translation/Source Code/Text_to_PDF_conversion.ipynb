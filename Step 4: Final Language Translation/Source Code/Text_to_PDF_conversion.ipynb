{
  "nbformat": 4,
  "nbformat_minor": 0,
  "metadata": {
    "colab": {
      "provenance": []
    },
    "kernelspec": {
      "name": "python3",
      "display_name": "Python 3"
    },
    "language_info": {
      "name": "python"
    }
  },
  "cells": [
    {
      "cell_type": "markdown",
      "source": [
        "## ECS 289G - Final Meeting Transcription - txt to pdf conversion"
      ],
      "metadata": {
        "id": "nwHo7qvEdrJk"
      }
    },
    {
      "cell_type": "code",
      "source": [
        "!pip install fpdf"
      ],
      "metadata": {
        "colab": {
          "base_uri": "https://localhost:8080/"
        },
        "id": "gWFOOZuaYBSu",
        "outputId": "c205c415-c9f7-41d1-cd85-3b29264d55de"
      },
      "execution_count": 3,
      "outputs": [
        {
          "output_type": "stream",
          "name": "stdout",
          "text": [
            "Requirement already satisfied: fpdf in /usr/local/lib/python3.10/dist-packages (1.7.2)\n"
          ]
        }
      ]
    },
    {
      "cell_type": "code",
      "source": [
        "from fpdf import FPDF\n",
        "from google.colab import files"
      ],
      "metadata": {
        "id": "Zxpaq58hd76L"
      },
      "execution_count": 4,
      "outputs": []
    },
    {
      "cell_type": "code",
      "source": [
        "#Writing the function to create pdf from text file\n",
        "\n",
        "def create_pdf(input_file, output_pdf):\n",
        "\n",
        "    with open(input_file, 'r') as file:\n",
        "        content = file.readlines()\n",
        "\n",
        "    header = \"ECS 289G: Meeting transcription\\n\\n\"\n",
        "    content.insert(0, header)\n",
        "\n",
        "    pdf = FPDF(orientation='P', unit='mm', format='letter')\n",
        "    pdf.set_auto_page_break(auto=True, margin=15)\n",
        "    pdf.add_page()\n",
        "\n",
        "    pdf.set_font(\"Arial\", size=12)\n",
        "\n",
        "\n",
        "    for line in content:\n",
        "        pdf.multi_cell(0, 10, line.strip())\n",
        "\n",
        "    pdf.output(output_pdf)"
      ],
      "metadata": {
        "id": "Gg_0tgNRYE0E"
      },
      "execution_count": 5,
      "outputs": []
    },
    {
      "cell_type": "code",
      "source": [
        "input_file_path = \"final_text.txt\"\n",
        "output_pdf_path = \"transcription.pdf\"\n",
        "\n",
        "create_pdf(input_file_path, output_pdf_path)\n",
        "print(f\"PDF generated successfully at {output_pdf_path}\")"
      ],
      "metadata": {
        "colab": {
          "base_uri": "https://localhost:8080/"
        },
        "id": "fJzqqCIAd0F5",
        "outputId": "438cbb5d-fcd1-40f6-87dc-828838dd6803"
      },
      "execution_count": 6,
      "outputs": [
        {
          "output_type": "stream",
          "name": "stdout",
          "text": [
            "PDF generated successfully at transcription.pdf\n"
          ]
        }
      ]
    },
    {
      "cell_type": "code",
      "source": [
        "#This will download the the final pdf to local machine\n",
        "files.download(output_pdf_path)"
      ],
      "metadata": {
        "colab": {
          "base_uri": "https://localhost:8080/",
          "height": 17
        },
        "id": "MNQFKTlaeRSK",
        "outputId": "77dc48b5-f17a-414e-c741-3199e66c94e3"
      },
      "execution_count": 7,
      "outputs": [
        {
          "output_type": "display_data",
          "data": {
            "text/plain": [
              "<IPython.core.display.Javascript object>"
            ],
            "application/javascript": [
              "\n",
              "    async function download(id, filename, size) {\n",
              "      if (!google.colab.kernel.accessAllowed) {\n",
              "        return;\n",
              "      }\n",
              "      const div = document.createElement('div');\n",
              "      const label = document.createElement('label');\n",
              "      label.textContent = `Downloading \"${filename}\": `;\n",
              "      div.appendChild(label);\n",
              "      const progress = document.createElement('progress');\n",
              "      progress.max = size;\n",
              "      div.appendChild(progress);\n",
              "      document.body.appendChild(div);\n",
              "\n",
              "      const buffers = [];\n",
              "      let downloaded = 0;\n",
              "\n",
              "      const channel = await google.colab.kernel.comms.open(id);\n",
              "      // Send a message to notify the kernel that we're ready.\n",
              "      channel.send({})\n",
              "\n",
              "      for await (const message of channel.messages) {\n",
              "        // Send a message to notify the kernel that we're ready.\n",
              "        channel.send({})\n",
              "        if (message.buffers) {\n",
              "          for (const buffer of message.buffers) {\n",
              "            buffers.push(buffer);\n",
              "            downloaded += buffer.byteLength;\n",
              "            progress.value = downloaded;\n",
              "          }\n",
              "        }\n",
              "      }\n",
              "      const blob = new Blob(buffers, {type: 'application/binary'});\n",
              "      const a = document.createElement('a');\n",
              "      a.href = window.URL.createObjectURL(blob);\n",
              "      a.download = filename;\n",
              "      div.appendChild(a);\n",
              "      a.click();\n",
              "      div.remove();\n",
              "    }\n",
              "  "
            ]
          },
          "metadata": {}
        },
        {
          "output_type": "display_data",
          "data": {
            "text/plain": [
              "<IPython.core.display.Javascript object>"
            ],
            "application/javascript": [
              "download(\"download_71e2897e-9a48-4977-ad03-a039b5e7d3c3\", \"transcription.pdf\", 1313)"
            ]
          },
          "metadata": {}
        }
      ]
    }
  ]
}