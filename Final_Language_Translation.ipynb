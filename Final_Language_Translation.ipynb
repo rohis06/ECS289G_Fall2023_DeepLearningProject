{
  "nbformat": 4,
  "nbformat_minor": 0,
  "metadata": {
    "colab": {
      "provenance": []
    },
    "kernelspec": {
      "name": "python3",
      "display_name": "Python 3"
    },
    "language_info": {
      "name": "python"
    }
  },
  "cells": [
    {
      "cell_type": "markdown",
      "source": [
        "## ECS 289G - Language Translation from English to Other Languages"
      ],
      "metadata": {
        "id": "hJVk_er0hkEc"
      }
    },
    {
      "cell_type": "markdown",
      "source": [
        "This notebook contains the implementation for the Final Language Documentation module using the dl-translate library to convert the final trascripted text from English to any desired language. Here I have done the translation to French."
      ],
      "metadata": {
        "id": "zFX3-8LOyEfG"
      }
    },
    {
      "cell_type": "code",
      "execution_count": 1,
      "metadata": {
        "colab": {
          "base_uri": "https://localhost:8080/"
        },
        "id": "NeGlq8PKhjfQ",
        "outputId": "e0ef9778-5a18-4782-a28e-e714ddb2d779"
      },
      "outputs": [
        {
          "output_type": "stream",
          "name": "stdout",
          "text": [
            "\u001b[?25l     \u001b[90m━━━━━━━━━━━━━━━━━━━━━━━━━━━━━━━━━━━━━━━━\u001b[0m \u001b[32m0.0/1.3 MB\u001b[0m \u001b[31m?\u001b[0m eta \u001b[36m-:--:--\u001b[0m\r\u001b[2K     \u001b[91m━━━━━━\u001b[0m\u001b[91m╸\u001b[0m\u001b[90m━━━━━━━━━━━━━━━━━━━━━━━━━━━━━━━━━\u001b[0m \u001b[32m0.2/1.3 MB\u001b[0m \u001b[31m7.9 MB/s\u001b[0m eta \u001b[36m0:00:01\u001b[0m\r\u001b[2K     \u001b[91m━━━━━━━━━━━━━━━━━━━━━━━━━━━━━━━━━━━━━━━\u001b[0m\u001b[91m╸\u001b[0m \u001b[32m1.3/1.3 MB\u001b[0m \u001b[31m25.8 MB/s\u001b[0m eta \u001b[36m0:00:01\u001b[0m\r\u001b[2K     \u001b[90m━━━━━━━━━━━━━━━━━━━━━━━━━━━━━━━━━━━━━━━━\u001b[0m \u001b[32m1.3/1.3 MB\u001b[0m \u001b[31m19.0 MB/s\u001b[0m eta \u001b[36m0:00:00\u001b[0m\n",
            "\u001b[?25h"
          ]
        }
      ],
      "source": [
        "!pip install -q dl-translate"
      ]
    },
    {
      "cell_type": "code",
      "source": [
        "#Reading the final English transcription from text file in which it is stored\n",
        "\n",
        "file_path = 'final_text.txt'\n",
        "\n",
        "try:\n",
        "    with open(file_path, 'r') as file:\n",
        "        file_contents = file.read()\n",
        "        print(\"File content stored:\")\n",
        "        print(file_contents)\n",
        "except FileNotFoundError:\n",
        "    print(f\"The file '{file_path}' was not found.\")\n",
        "except Exception as e:\n",
        "    print(f\"An error occurred: {e}\")\n"
      ],
      "metadata": {
        "colab": {
          "base_uri": "https://localhost:8080/"
        },
        "id": "GOUIoepjiK91",
        "outputId": "3a2f8039-9669-4c91-ba4d-9b74c5172200"
      },
      "execution_count": 2,
      "outputs": [
        {
          "output_type": "stream",
          "name": "stdout",
          "text": [
            "File content stored:\n",
            "Speaker 00:  Hey Shreyas, how's your day going?\n",
            "\n",
            "Speaker 01:  Hi Rohit, my day is going good, how about yours?\n",
            "\n",
            "Speaker 00:  Oh, that's great. Yeah, even mine's going great. I just got done with my artificial intelligence presentation a while ago, and now I'm working on my project for it. How about you?\n",
            "\n",
            "Speaker 01:  I am just working on an assignment for my linear algebra course which is due by midnight\n",
            "\n",
            "Speaker 00:  Oh, great. So, let's see how this audio transcript works in our Hugging Face model.\n",
            "\n"
          ]
        }
      ]
    },
    {
      "cell_type": "code",
      "source": [
        "import dl_translate as dlt\n",
        "\n",
        "mt = dlt.TranslationModel()\n",
        "\n",
        "final_string=mt.translate(file_contents, source=\"en\", target=\"fr\")"
      ],
      "metadata": {
        "id": "VJ6C3Nllh34d"
      },
      "execution_count": 4,
      "outputs": []
    },
    {
      "cell_type": "code",
      "source": [
        "final_string"
      ],
      "metadata": {
        "colab": {
          "base_uri": "https://localhost:8080/",
          "height": 89
        },
        "id": "83YpUVvvwCdJ",
        "outputId": "54fdd757-fd08-4780-a682-8032ba21cf41"
      },
      "execution_count": 6,
      "outputs": [
        {
          "output_type": "execute_result",
          "data": {
            "text/plain": [
              "\"Speaker 00: Hey Shreyas, comment va votre jour? Speaker 01: Hi Rohit, mon jour va bien, comment sur votre? Speaker 00: Oh, c'est génial. Oui, même mon va bien. Je viens de faire avec ma présentation de l'intelligence artificielle il y a un moment, et maintenant je travaille sur mon projet pour cela. Qu'en est-il de vous? Speaker 01: Je travaille juste sur une tâche pour mon cours d'algebre linéaire qui est dû à minuit Speaker 00: Oh, génial.\""
            ],
            "application/vnd.google.colaboratory.intrinsic+json": {
              "type": "string"
            }
          },
          "metadata": {},
          "execution_count": 6
        }
      ]
    },
    {
      "cell_type": "code",
      "source": [
        "#Storing the translated french text in a new text file\n",
        "file_path = 'final_text_french.txt'\n",
        "\n",
        "try:\n",
        "    with open(file_path, 'w') as file:\n",
        "        file.write(final_string)\n",
        "    print(f\"Content successfully written to '{file_path}'.\")\n",
        "except Exception as e:\n",
        "    print(f\"An error occurred: {e}\")\n"
      ],
      "metadata": {
        "colab": {
          "base_uri": "https://localhost:8080/"
        },
        "id": "tWixKHIAj7Gs",
        "outputId": "af70b98a-d684-443f-8583-5baba798f0dd"
      },
      "execution_count": 13,
      "outputs": [
        {
          "output_type": "stream",
          "name": "stdout",
          "text": [
            "Content successfully written to 'final_text_french.txt'.\n"
          ]
        }
      ]
    }
  ]
}