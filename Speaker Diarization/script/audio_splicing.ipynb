{
  "nbformat": 4,
  "nbformat_minor": 0,
  "metadata": {
    "colab": {
      "provenance": []
    },
    "kernelspec": {
      "name": "python3",
      "display_name": "Python 3"
    },
    "language_info": {
      "name": "python"
    }
  },
  "cells": [
    {
      "cell_type": "markdown",
      "source": [
        "# ECS 289G: Script for splicing the original audio"
      ],
      "metadata": {
        "id": "UWFOXZGTPw8D"
      }
    },
    {
      "cell_type": "code",
      "execution_count": null,
      "metadata": {
        "colab": {
          "base_uri": "https://localhost:8080/"
        },
        "id": "soinDl0_blSx",
        "outputId": "e113c3b7-c66c-4a71-acf4-8b8f7ac49c33"
      },
      "outputs": [
        {
          "output_type": "stream",
          "name": "stdout",
          "text": [
            "Collecting pydub\n",
            "  Downloading pydub-0.25.1-py2.py3-none-any.whl (32 kB)\n",
            "Installing collected packages: pydub\n",
            "Successfully installed pydub-0.25.1\n"
          ]
        }
      ],
      "source": [
        "!pip3 install pydub"
      ]
    },
    {
      "cell_type": "code",
      "source": [
        "from pydub import AudioSegment\n",
        "\n",
        "def read_rttm_file(file_path):\n",
        "    data = []\n",
        "    with open(file_path, 'r') as file:\n",
        "        for line in file:\n",
        "            columns = line.strip().split()\n",
        "            data.append(columns)\n",
        "    return data\n",
        "\n",
        "def splice_audio(input_file, data):\n",
        "    audio = AudioSegment.from_file(input_file)\n",
        "    count = 0\n",
        "\n",
        "    for line in data:\n",
        "        start_time = float(line[3])\n",
        "        end_time = start_time + float(line[4])\n",
        "        speaker_value = line[7]\n",
        "\n",
        "        # Convert time values to milliseconds\n",
        "        start_ms = int(start_time * 1000)\n",
        "        end_ms = int(end_time * 1000)\n",
        "\n",
        "        # Splice audio and save to a new file with speaker value as a prefix\n",
        "        segment = audio[start_ms:end_ms]\n",
        "        output_file = f\"/content/drive/MyDrive/Fall 2023/ECS 289G/Project/Dataset/{speaker_value}_{count}.wav\"\n",
        "        count = count + 1\n",
        "        segment.export(output_file, format=\"wav\")\n",
        "\n",
        "if __name__ == \"__main__\":\n",
        "    rttm_file = \"/content/drive/MyDrive/Fall 2023/ECS 289G/Project/Dataset/audio.rttm\"\n",
        "    input_audio_file = \"/content/drive/MyDrive/Fall 2023/ECS 289G/Project/Dataset/sample.wav\"\n",
        "\n",
        "    rttm_data = read_rttm_file(rttm_file)\n",
        "    splice_audio(input_audio_file, rttm_data)"
      ],
      "metadata": {
        "id": "WV3uLM1Mbtlc"
      },
      "execution_count": null,
      "outputs": []
    }
  ]
}
